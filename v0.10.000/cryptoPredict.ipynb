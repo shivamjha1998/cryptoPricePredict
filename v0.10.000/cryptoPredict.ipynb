{
  "nbformat": 4,
  "nbformat_minor": 0,
  "metadata": {
    "colab": {
      "name": "cryptoPredict.ipynb",
      "provenance": [],
      "collapsed_sections": []
    },
    "kernelspec": {
      "name": "python3",
      "display_name": "Python 3"
    },
    "language_info": {
      "name": "python"
    }
  },
  "cells": [
    {
      "cell_type": "code",
      "execution_count": null,
      "metadata": {
        "colab": {
          "base_uri": "https://localhost:8080/"
        },
        "id": "DH8lwL4RxW04",
        "outputId": "1dbf2836-a4b9-4229-ace3-4c67e707f9f0"
      },
      "outputs": [
        {
          "output_type": "stream",
          "name": "stdout",
          "text": [
            "Requirement already satisfied: numpy==1.19.5 in /usr/local/lib/python3.7/dist-packages (1.19.5)\n",
            "Requirement already satisfied: yfinance in /usr/local/lib/python3.7/dist-packages (0.1.70)\n",
            "Requirement already satisfied: pandas>=0.24.0 in /usr/local/lib/python3.7/dist-packages (from yfinance) (1.1.5)\n",
            "Requirement already satisfied: multitasking>=0.0.7 in /usr/local/lib/python3.7/dist-packages (from yfinance) (0.0.10)\n",
            "Requirement already satisfied: numpy>=1.15 in /usr/local/lib/python3.7/dist-packages (from yfinance) (1.19.5)\n",
            "Requirement already satisfied: requests>=2.26 in /usr/local/lib/python3.7/dist-packages (from yfinance) (2.27.1)\n",
            "Requirement already satisfied: lxml>=4.5.1 in /usr/local/lib/python3.7/dist-packages (from yfinance) (4.7.1)\n",
            "Requirement already satisfied: pytz>=2017.2 in /usr/local/lib/python3.7/dist-packages (from pandas>=0.24.0->yfinance) (2018.9)\n",
            "Requirement already satisfied: python-dateutil>=2.7.3 in /usr/local/lib/python3.7/dist-packages (from pandas>=0.24.0->yfinance) (2.8.2)\n",
            "Requirement already satisfied: six>=1.5 in /usr/local/lib/python3.7/dist-packages (from python-dateutil>=2.7.3->pandas>=0.24.0->yfinance) (1.15.0)\n",
            "Requirement already satisfied: certifi>=2017.4.17 in /usr/local/lib/python3.7/dist-packages (from requests>=2.26->yfinance) (2021.10.8)\n",
            "Requirement already satisfied: idna<4,>=2.5 in /usr/local/lib/python3.7/dist-packages (from requests>=2.26->yfinance) (2.10)\n",
            "Requirement already satisfied: charset-normalizer~=2.0.0 in /usr/local/lib/python3.7/dist-packages (from requests>=2.26->yfinance) (2.0.10)\n",
            "Requirement already satisfied: urllib3<1.27,>=1.21.1 in /usr/local/lib/python3.7/dist-packages (from requests>=2.26->yfinance) (1.24.3)\n"
          ]
        }
      ],
      "source": [
        "!pip install numpy==1.19.5\n",
        "import numpy as np\n",
        "import matplotlib.pyplot as plt\n",
        "import pandas as pd\n",
        "import pandas_datareader as web\n",
        "import datetime as dt\n",
        "!pip install yfinance\n",
        "import yfinance as yf"
      ]
    },
    {
      "cell_type": "code",
      "source": [
        "from sklearn.preprocessing import MinMaxScaler\n",
        "!pip install tensorflow==2.6.2\n",
        "from tensorflow.keras.layers import Dense, Dropout, LSTM\n",
        "from tensorflow.keras.models import Sequential"
      ],
      "metadata": {
        "colab": {
          "base_uri": "https://localhost:8080/"
        },
        "id": "DZeA1vfox64V",
        "outputId": "2bcc2246-e089-40a6-90ec-4cae49d01fa3"
      },
      "execution_count": null,
      "outputs": [
        {
          "output_type": "stream",
          "name": "stdout",
          "text": [
            "Requirement already satisfied: tensorflow==2.6.2 in /usr/local/lib/python3.7/dist-packages (2.6.2)\n",
            "Requirement already satisfied: grpcio<2.0,>=1.37.0 in /usr/local/lib/python3.7/dist-packages (from tensorflow==2.6.2) (1.43.0)\n",
            "Requirement already satisfied: termcolor~=1.1.0 in /usr/local/lib/python3.7/dist-packages (from tensorflow==2.6.2) (1.1.0)\n",
            "Requirement already satisfied: opt-einsum~=3.3.0 in /usr/local/lib/python3.7/dist-packages (from tensorflow==2.6.2) (3.3.0)\n",
            "Requirement already satisfied: keras-preprocessing~=1.1.2 in /usr/local/lib/python3.7/dist-packages (from tensorflow==2.6.2) (1.1.2)\n",
            "Requirement already satisfied: tensorboard<2.7,>=2.6.0 in /usr/local/lib/python3.7/dist-packages (from tensorflow==2.6.2) (2.6.0)\n",
            "Requirement already satisfied: google-pasta~=0.2 in /usr/local/lib/python3.7/dist-packages (from tensorflow==2.6.2) (0.2.0)\n",
            "Requirement already satisfied: wrapt~=1.12.1 in /usr/local/lib/python3.7/dist-packages (from tensorflow==2.6.2) (1.12.1)\n",
            "Requirement already satisfied: protobuf>=3.9.2 in /usr/local/lib/python3.7/dist-packages (from tensorflow==2.6.2) (3.17.3)\n",
            "Requirement already satisfied: numpy~=1.19.2 in /usr/local/lib/python3.7/dist-packages (from tensorflow==2.6.2) (1.19.5)\n",
            "Requirement already satisfied: six~=1.15.0 in /usr/local/lib/python3.7/dist-packages (from tensorflow==2.6.2) (1.15.0)\n",
            "Requirement already satisfied: gast==0.4.0 in /usr/local/lib/python3.7/dist-packages (from tensorflow==2.6.2) (0.4.0)\n",
            "Requirement already satisfied: flatbuffers~=1.12.0 in /usr/local/lib/python3.7/dist-packages (from tensorflow==2.6.2) (1.12)\n",
            "Requirement already satisfied: tensorflow-estimator<2.7,>=2.6.0 in /usr/local/lib/python3.7/dist-packages (from tensorflow==2.6.2) (2.6.0)\n",
            "Requirement already satisfied: astunparse~=1.6.3 in /usr/local/lib/python3.7/dist-packages (from tensorflow==2.6.2) (1.6.3)\n",
            "Requirement already satisfied: h5py~=3.1.0 in /usr/local/lib/python3.7/dist-packages (from tensorflow==2.6.2) (3.1.0)\n",
            "Requirement already satisfied: absl-py~=0.10 in /usr/local/lib/python3.7/dist-packages (from tensorflow==2.6.2) (0.15.0)\n",
            "Requirement already satisfied: wheel~=0.35 in /usr/local/lib/python3.7/dist-packages (from tensorflow==2.6.2) (0.37.1)\n",
            "Requirement already satisfied: keras<2.7,>=2.6.0 in /usr/local/lib/python3.7/dist-packages (from tensorflow==2.6.2) (2.6.0)\n",
            "Requirement already satisfied: typing-extensions~=3.7.4 in /usr/local/lib/python3.7/dist-packages (from tensorflow==2.6.2) (3.7.4.3)\n",
            "Requirement already satisfied: clang~=5.0 in /usr/local/lib/python3.7/dist-packages (from tensorflow==2.6.2) (5.0)\n",
            "Requirement already satisfied: cached-property in /usr/local/lib/python3.7/dist-packages (from h5py~=3.1.0->tensorflow==2.6.2) (1.5.2)\n",
            "Requirement already satisfied: tensorboard-plugin-wit>=1.6.0 in /usr/local/lib/python3.7/dist-packages (from tensorboard<2.7,>=2.6.0->tensorflow==2.6.2) (1.8.1)\n",
            "Requirement already satisfied: tensorboard-data-server<0.7.0,>=0.6.0 in /usr/local/lib/python3.7/dist-packages (from tensorboard<2.7,>=2.6.0->tensorflow==2.6.2) (0.6.1)\n",
            "Requirement already satisfied: google-auth<2,>=1.6.3 in /usr/local/lib/python3.7/dist-packages (from tensorboard<2.7,>=2.6.0->tensorflow==2.6.2) (1.35.0)\n",
            "Requirement already satisfied: setuptools>=41.0.0 in /usr/local/lib/python3.7/dist-packages (from tensorboard<2.7,>=2.6.0->tensorflow==2.6.2) (57.4.0)\n",
            "Requirement already satisfied: werkzeug>=0.11.15 in /usr/local/lib/python3.7/dist-packages (from tensorboard<2.7,>=2.6.0->tensorflow==2.6.2) (1.0.1)\n",
            "Requirement already satisfied: requests<3,>=2.21.0 in /usr/local/lib/python3.7/dist-packages (from tensorboard<2.7,>=2.6.0->tensorflow==2.6.2) (2.27.1)\n",
            "Requirement already satisfied: markdown>=2.6.8 in /usr/local/lib/python3.7/dist-packages (from tensorboard<2.7,>=2.6.0->tensorflow==2.6.2) (3.3.6)\n",
            "Requirement already satisfied: google-auth-oauthlib<0.5,>=0.4.1 in /usr/local/lib/python3.7/dist-packages (from tensorboard<2.7,>=2.6.0->tensorflow==2.6.2) (0.4.6)\n",
            "Requirement already satisfied: pyasn1-modules>=0.2.1 in /usr/local/lib/python3.7/dist-packages (from google-auth<2,>=1.6.3->tensorboard<2.7,>=2.6.0->tensorflow==2.6.2) (0.2.8)\n",
            "Requirement already satisfied: cachetools<5.0,>=2.0.0 in /usr/local/lib/python3.7/dist-packages (from google-auth<2,>=1.6.3->tensorboard<2.7,>=2.6.0->tensorflow==2.6.2) (4.2.4)\n",
            "Requirement already satisfied: rsa<5,>=3.1.4 in /usr/local/lib/python3.7/dist-packages (from google-auth<2,>=1.6.3->tensorboard<2.7,>=2.6.0->tensorflow==2.6.2) (4.8)\n",
            "Requirement already satisfied: requests-oauthlib>=0.7.0 in /usr/local/lib/python3.7/dist-packages (from google-auth-oauthlib<0.5,>=0.4.1->tensorboard<2.7,>=2.6.0->tensorflow==2.6.2) (1.3.0)\n",
            "Requirement already satisfied: importlib-metadata>=4.4 in /usr/local/lib/python3.7/dist-packages (from markdown>=2.6.8->tensorboard<2.7,>=2.6.0->tensorflow==2.6.2) (4.10.1)\n",
            "Requirement already satisfied: zipp>=0.5 in /usr/local/lib/python3.7/dist-packages (from importlib-metadata>=4.4->markdown>=2.6.8->tensorboard<2.7,>=2.6.0->tensorflow==2.6.2) (3.7.0)\n",
            "Requirement already satisfied: pyasn1<0.5.0,>=0.4.6 in /usr/local/lib/python3.7/dist-packages (from pyasn1-modules>=0.2.1->google-auth<2,>=1.6.3->tensorboard<2.7,>=2.6.0->tensorflow==2.6.2) (0.4.8)\n",
            "Requirement already satisfied: certifi>=2017.4.17 in /usr/local/lib/python3.7/dist-packages (from requests<3,>=2.21.0->tensorboard<2.7,>=2.6.0->tensorflow==2.6.2) (2021.10.8)\n",
            "Requirement already satisfied: idna<4,>=2.5 in /usr/local/lib/python3.7/dist-packages (from requests<3,>=2.21.0->tensorboard<2.7,>=2.6.0->tensorflow==2.6.2) (2.10)\n",
            "Requirement already satisfied: urllib3<1.27,>=1.21.1 in /usr/local/lib/python3.7/dist-packages (from requests<3,>=2.21.0->tensorboard<2.7,>=2.6.0->tensorflow==2.6.2) (1.24.3)\n",
            "Requirement already satisfied: charset-normalizer~=2.0.0 in /usr/local/lib/python3.7/dist-packages (from requests<3,>=2.21.0->tensorboard<2.7,>=2.6.0->tensorflow==2.6.2) (2.0.10)\n",
            "Requirement already satisfied: oauthlib>=3.0.0 in /usr/local/lib/python3.7/dist-packages (from requests-oauthlib>=0.7.0->google-auth-oauthlib<0.5,>=0.4.1->tensorboard<2.7,>=2.6.0->tensorflow==2.6.2) (3.1.1)\n"
          ]
        }
      ]
    },
    {
      "cell_type": "code",
      "source": [
        "crypto_currency = 'BTC'\n",
        "fiat_currency = 'USD'"
      ],
      "metadata": {
        "id": "h_Rmbu6gyV_t"
      },
      "execution_count": null,
      "outputs": []
    },
    {
      "cell_type": "code",
      "source": [
        "start=dt.datetime(2015,1,1)\n",
        "end=dt.datetime.now()"
      ],
      "metadata": {
        "id": "XYOgHhV_zIwW"
      },
      "execution_count": null,
      "outputs": []
    },
    {
      "cell_type": "code",
      "source": [
        "data= yf.download('BTC-USD',start, end)"
      ],
      "metadata": {
        "colab": {
          "base_uri": "https://localhost:8080/"
        },
        "id": "VgC1siCfzdSP",
        "outputId": "cda15522-4504-4ed7-f1ed-fdc01f64595f"
      },
      "execution_count": null,
      "outputs": [
        {
          "output_type": "stream",
          "name": "stdout",
          "text": [
            "\r[*********************100%***********************]  1 of 1 completed\n"
          ]
        }
      ]
    },
    {
      "cell_type": "code",
      "source": [
        "scalar = MinMaxScaler(feature_range=(0,1))\n",
        "scaled_data = scalar.fit_transform(data['Close'].values.reshape(-1,1))"
      ],
      "metadata": {
        "id": "zl-vEwIH3AY0"
      },
      "execution_count": null,
      "outputs": []
    },
    {
      "cell_type": "code",
      "source": [
        "prediction_days = 60\n",
        "x_train, y_train = [], []"
      ],
      "metadata": {
        "id": "ASFRO2qo3IaT"
      },
      "execution_count": null,
      "outputs": []
    },
    {
      "cell_type": "code",
      "source": [
        "for x in range(prediction_days, len(scaled_data)):\n",
        "  x_train.append(scaled_data[x-prediction_days:x, 0])\n",
        "  y_train.append(scaled_data[x,0])"
      ],
      "metadata": {
        "id": "uS7UBJLi4JVb"
      },
      "execution_count": null,
      "outputs": []
    },
    {
      "cell_type": "code",
      "source": [
        "x_train, y_train = np.array(x_train), np.array(y_train)\n",
        "x_train = np.reshape(x_train, (x_train.shape[0], x_train.shape[1], 1))"
      ],
      "metadata": {
        "id": "kPLc6FCQ41Aa"
      },
      "execution_count": null,
      "outputs": []
    },
    {
      "cell_type": "markdown",
      "source": [
        "# Creating Neural Network"
      ],
      "metadata": {
        "id": "SZDn2jMi5x4Q"
      }
    },
    {
      "cell_type": "code",
      "source": [
        "model=Sequential()\n",
        "\n",
        "model.add(LSTM(units=50, return_sequences=True, input_shape=(x_train.shape[1],1)))\n",
        "model.add(Dropout(0.2))\n",
        "model.add(LSTM(units=50, return_sequences=True))\n",
        "model.add(Dropout(0.2))\n",
        "model.add(LSTM(units=50))\n",
        "model.add(Dropout(0.2))\n",
        "model.add(Dense(units=1))\n",
        "\n",
        "model.compile(optimizer='adam', loss='mean_squared_error')\n",
        "model.fit(x_train, y_train, epochs=25, batch_size=32)"
      ],
      "metadata": {
        "colab": {
          "base_uri": "https://localhost:8080/"
        },
        "id": "fR5zczL658wp",
        "outputId": "edab1549-7b62-4e6d-c2d3-ae419df5d0df"
      },
      "execution_count": null,
      "outputs": [
        {
          "output_type": "stream",
          "name": "stdout",
          "text": [
            "Epoch 1/25\n",
            "79/79 [==============================] - 11s 73ms/step - loss: 0.0082\n",
            "Epoch 2/25\n",
            "79/79 [==============================] - 6s 72ms/step - loss: 0.0024\n",
            "Epoch 3/25\n",
            "79/79 [==============================] - 6s 73ms/step - loss: 0.0019\n",
            "Epoch 4/25\n",
            "79/79 [==============================] - 6s 72ms/step - loss: 0.0019\n",
            "Epoch 5/25\n",
            "79/79 [==============================] - 6s 75ms/step - loss: 0.0018\n",
            "Epoch 6/25\n",
            "79/79 [==============================] - 6s 75ms/step - loss: 0.0017\n",
            "Epoch 7/25\n",
            "79/79 [==============================] - 6s 72ms/step - loss: 0.0016\n",
            "Epoch 8/25\n",
            "79/79 [==============================] - 6s 72ms/step - loss: 0.0017\n",
            "Epoch 9/25\n",
            "79/79 [==============================] - 6s 72ms/step - loss: 0.0014\n",
            "Epoch 10/25\n",
            "79/79 [==============================] - 6s 72ms/step - loss: 0.0011\n",
            "Epoch 11/25\n",
            "79/79 [==============================] - 6s 82ms/step - loss: 0.0013\n",
            "Epoch 12/25\n",
            "79/79 [==============================] - 6s 72ms/step - loss: 0.0013\n",
            "Epoch 13/25\n",
            "79/79 [==============================] - 6s 72ms/step - loss: 0.0013\n",
            "Epoch 14/25\n",
            "79/79 [==============================] - 6s 72ms/step - loss: 0.0012\n",
            "Epoch 15/25\n",
            "79/79 [==============================] - 6s 72ms/step - loss: 0.0012\n",
            "Epoch 16/25\n",
            "79/79 [==============================] - 6s 73ms/step - loss: 0.0011\n",
            "Epoch 17/25\n",
            "79/79 [==============================] - 6s 73ms/step - loss: 0.0011\n",
            "Epoch 18/25\n",
            "79/79 [==============================] - 6s 73ms/step - loss: 0.0010\n",
            "Epoch 19/25\n",
            "79/79 [==============================] - 6s 72ms/step - loss: 9.9900e-04\n",
            "Epoch 20/25\n",
            "79/79 [==============================] - 6s 72ms/step - loss: 0.0011\n",
            "Epoch 21/25\n",
            "79/79 [==============================] - 6s 73ms/step - loss: 0.0011\n",
            "Epoch 22/25\n",
            "79/79 [==============================] - 6s 73ms/step - loss: 8.5248e-04\n",
            "Epoch 23/25\n",
            "79/79 [==============================] - 6s 73ms/step - loss: 8.9000e-04\n",
            "Epoch 24/25\n",
            "79/79 [==============================] - 6s 73ms/step - loss: 9.7084e-04\n",
            "Epoch 25/25\n",
            "79/79 [==============================] - 6s 73ms/step - loss: 0.0011\n"
          ]
        },
        {
          "output_type": "execute_result",
          "data": {
            "text/plain": [
              "<keras.callbacks.History at 0x7f2c189a7910>"
            ]
          },
          "metadata": {},
          "execution_count": 11
        }
      ]
    },
    {
      "cell_type": "markdown",
      "source": [
        "# Testing the Model"
      ],
      "metadata": {
        "id": "OJJ8wt6KKttu"
      }
    },
    {
      "cell_type": "code",
      "source": [
        "test_start= dt.datetime(2021,9,1)\n",
        "test_end= dt.datetime.now()"
      ],
      "metadata": {
        "id": "buIW1-BrKzgn"
      },
      "execution_count": null,
      "outputs": []
    },
    {
      "cell_type": "code",
      "source": [
        "test_data= yf.download('BTC-USD',test_start, test_end)\n",
        "actual_price= test_data['Close'].values"
      ],
      "metadata": {
        "colab": {
          "base_uri": "https://localhost:8080/"
        },
        "id": "Vqeh_5JqLUDT",
        "outputId": "dc476d26-5c86-4363-b313-19e6fb3b3b11"
      },
      "execution_count": null,
      "outputs": [
        {
          "output_type": "stream",
          "name": "stdout",
          "text": [
            "\r[*********************100%***********************]  1 of 1 completed\n"
          ]
        }
      ]
    },
    {
      "cell_type": "code",
      "source": [
        "total_dataset = pd.concat((data['Close'], test_data['Close']), axis=0)"
      ],
      "metadata": {
        "id": "UcySgibWLjqP"
      },
      "execution_count": null,
      "outputs": []
    },
    {
      "cell_type": "code",
      "source": [
        "model_inputs = total_dataset[len(total_dataset) - len(test_data) - prediction_days:].values\n",
        "model_inputs = model_inputs.reshape(-1,1)\n",
        "model_inputs = scalar.fit_transform(model_inputs)"
      ],
      "metadata": {
        "id": "PF55vVSNLzaJ"
      },
      "execution_count": null,
      "outputs": []
    },
    {
      "cell_type": "code",
      "source": [
        "x_test = []\n",
        "\n",
        "for x in range(prediction_days, len(model_inputs)):\n",
        "  x_test.append(model_inputs[x-prediction_days:x, 0])\n",
        "\n",
        "x_test = np.array(x_test)\n",
        "x_test = np.reshape(x_test, (x_test.shape[0], x_test.shape[1], 1))\n"
      ],
      "metadata": {
        "id": "4ig-rAMTMhil"
      },
      "execution_count": null,
      "outputs": []
    },
    {
      "cell_type": "code",
      "source": [
        "prediction_prices = model.predict(x_test)\n",
        "prediction_prices = scalar.inverse_transform(prediction_prices)"
      ],
      "metadata": {
        "id": "WpHHb3QxNP9M"
      },
      "execution_count": null,
      "outputs": []
    },
    {
      "cell_type": "code",
      "source": [
        "plt.plot(actual_price, color='black', label='Actual Prices')\n",
        "plt.plot(prediction_prices, color='Green', label='Predicted Prices')\n",
        "plt.title('BTC price prediction')\n",
        "plt.xlabel('Time')\n",
        "plt.ylabel('Price')\n",
        "plt.legend(loc='upper left')\n",
        "plt.show()"
      ],
      "metadata": {
        "colab": {
          "base_uri": "https://localhost:8080/",
          "height": 295
        },
        "id": "dkZNS9FwNzFf",
        "outputId": "47a75d4a-5a56-48a5-e38f-2d86a8685924"
      },
      "execution_count": null,
      "outputs": [
        {
          "output_type": "display_data",
          "data": {
            "image/png": "[encoded data removed]",
            "text/plain": [
              "<Figure size 432x288 with 1 Axes>"
            ]
          },
          "metadata": {
            "needs_background": "light"
          }
        }
      ]
    },
    {
      "cell_type": "markdown",
      "source": [
        "# Predict Next Date"
      ],
      "metadata": {
        "id": "h1ry-mQtPul8"
      }
    },
    {
      "cell_type": "code",
      "source": [
        "real_data = [model_inputs[len(model_inputs)+ 10 - prediction_days:len(model_inputs) + 1, 0]]\n",
        "real_data = np.array(real_data)\n",
        "real_data = np.reshape(real_data, (real_data.shape[0], real_data.shape[1], 1))"
      ],
      "metadata": {
        "id": "9MJWHB--PyHm"
      },
      "execution_count": null,
      "outputs": []
    },
    {
      "cell_type": "code",
      "source": [
        "prediction = model.predict(real_data)\n",
        "prediction = scalar.inverse_transform(prediction)\n",
        "print(prediction)"
      ],
      "metadata": {
        "colab": {
          "base_uri": "https://localhost:8080/"
        },
        "id": "_JZ231nnQlQ_",
        "outputId": "a0df9a88-06c4-4e36-a686-860a33e54848"
      },
      "execution_count": null,
      "outputs": [
        {
          "output_type": "stream",
          "name": "stdout",
          "text": [
            "[[37399.645]]\n"
          ]
        }
      ]
    }
  ]
}